{
 "cells": [
  {
   "cell_type": "code",
   "execution_count": 14,
   "metadata": {},
   "outputs": [
    {
     "name": "stdout",
     "output_type": "stream",
     "text": [
      "A versão do Python usada nesse Notebook é  3.10.9\n"
     ]
    }
   ],
   "source": [
    "from platform import python_version\n",
    "print(\"A versão do Python usada nesse Notebook é \", python_version())"
   ]
  },
  {
   "cell_type": "code",
   "execution_count": 15,
   "metadata": {},
   "outputs": [],
   "source": [
    "class Veiculo:\n",
    "\n",
    "    def __init__(self, marca, modelo):\n",
    "        self.marca = marca\n",
    "        self.modelo = modelo\n",
    "\n",
    "    def imprimir(self):\n",
    "        print(f\"O veiculo é {self.marca} de modelo {self.modelo}\")\n",
    "\n",
    "    def acelerar(self):\n",
    "        pass\n",
    "\n",
    "    def frear(self):\n",
    "        pass"
   ]
  },
  {
   "cell_type": "code",
   "execution_count": 16,
   "metadata": {},
   "outputs": [],
   "source": [
    "class Carro(Veiculo):\n",
    "\n",
    "    def acelerar(self):\n",
    "        print(\"O carro está acelerando\")\n",
    "\n",
    "    def frear(self):\n",
    "        print(\"O carro está freando\")"
   ]
  },
  {
   "cell_type": "code",
   "execution_count": 17,
   "metadata": {},
   "outputs": [],
   "source": [
    "class Moto(Veiculo):\n",
    "\n",
    "    def acelerar(self):\n",
    "        print(\"A moto está acelerando\")\n",
    "\n",
    "    def frear(self):\n",
    "        print(\"A moto está freando\")"
   ]
  },
  {
   "cell_type": "code",
   "execution_count": 18,
   "metadata": {},
   "outputs": [],
   "source": [
    "class Aviao(Veiculo):\n",
    "\n",
    "    def acelerar(self):\n",
    "        print(\"O Aviao está acelerando\")\n",
    "\n",
    "    def frear(self):\n",
    "        print(\"O Aviao está freando\")\n",
    "\n",
    "    def decolar(self):\n",
    "        print(\"O Aviao está decolando\")"
   ]
  },
  {
   "cell_type": "code",
   "execution_count": 19,
   "metadata": {},
   "outputs": [],
   "source": [
    "lista_veiculos = [Carro(\"Porsche\", \"911 Turbo\"), Moto(\"Honda\", \"CB 1000R\"), Aviao(\"Boeing\", \"757\")]"
   ]
  },
  {
   "cell_type": "code",
   "execution_count": 22,
   "metadata": {},
   "outputs": [
    {
     "name": "stdout",
     "output_type": "stream",
     "text": [
      "O veiculo é Porsche de modelo 911 Turbo\n",
      "O carro está acelerando\n",
      "O carro está freando\n",
      "#####\n",
      "O veiculo é Honda de modelo CB 1000R\n",
      "A moto está acelerando\n",
      "A moto está freando\n",
      "#####\n",
      "O veiculo é Boeing de modelo 757\n",
      "O Aviao está acelerando\n",
      "O Aviao está freando\n",
      "O Aviao está decolando\n",
      "#####\n"
     ]
    }
   ],
   "source": [
    "for item in lista_veiculos:\n",
    "\n",
    "    item.imprimir()\n",
    "\n",
    "    item.acelerar()\n",
    "\n",
    "    item.frear()\n",
    "\n",
    "    if isinstance(item , Aviao):\n",
    "        item.decolar()\n",
    "\n",
    "    print(\"#####\")"
   ]
  }
 ],
 "metadata": {
  "kernelspec": {
   "display_name": "base",
   "language": "python",
   "name": "python3"
  },
  "language_info": {
   "codemirror_mode": {
    "name": "ipython",
    "version": 3
   },
   "file_extension": ".py",
   "mimetype": "text/x-python",
   "name": "python",
   "nbconvert_exporter": "python",
   "pygments_lexer": "ipython3",
   "version": "3.10.9"
  },
  "orig_nbformat": 4
 },
 "nbformat": 4,
 "nbformat_minor": 2
}
