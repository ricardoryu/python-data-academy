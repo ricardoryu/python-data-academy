{
 "cells": [
  {
   "attachments": {},
   "cell_type": "markdown",
   "id": "280ce1f5",
   "metadata": {},
   "source": [
    "# Data Science Academy\n",
    "\n",
    "## Fundamentos de Linguagem Python Para Análise de Dados e Data Science\n",
    "\n",
    "## Introdução à Programação Orientada a Objetos"
   ]
  },
  {
   "cell_type": "code",
   "execution_count": 1,
   "id": "d6038a4c",
   "metadata": {},
   "outputs": [
    {
     "name": "stdout",
     "output_type": "stream",
     "text": [
      "A versão do Python usada nesse Notebook é  3.10.9\n"
     ]
    }
   ],
   "source": [
    "from platform import python_version\n",
    "print(\"A versão do Python usada nesse Notebook é \", python_version())"
   ]
  },
  {
   "cell_type": "code",
   "execution_count": 2,
   "id": "82b9b44d",
   "metadata": {},
   "outputs": [],
   "source": [
    "class Livro():\n",
    "\n",
    "    def __init__(self):\n",
    "        self.titulo = \"Harry Potter\"\n",
    "        self.isbn = 9991458\n",
    "        print(\"Construtor chamado para criar um objeto da classe\")\n",
    "    \n",
    "    def imprime(self):\n",
    "        print(f\"Foi criado o livro {self.titulo} com ISBN {self.isbn}\")\n",
    "    "
   ]
  },
  {
   "cell_type": "code",
   "execution_count": 3,
   "id": "10c071b3",
   "metadata": {},
   "outputs": [
    {
     "name": "stdout",
     "output_type": "stream",
     "text": [
      "Construtor chamado para criar um objeto da classe\n"
     ]
    }
   ],
   "source": [
    "livro_inst = Livro()"
   ]
  },
  {
   "cell_type": "code",
   "execution_count": 4,
   "id": "1ca9a6ca",
   "metadata": {},
   "outputs": [
    {
     "data": {
      "text/plain": [
       "__main__.Livro"
      ]
     },
     "execution_count": 4,
     "metadata": {},
     "output_type": "execute_result"
    }
   ],
   "source": [
    "type(livro_inst)"
   ]
  },
  {
   "cell_type": "code",
   "execution_count": 5,
   "id": "13066eb1",
   "metadata": {},
   "outputs": [
    {
     "data": {
      "text/plain": [
       "'Harry Potter'"
      ]
     },
     "execution_count": 5,
     "metadata": {},
     "output_type": "execute_result"
    }
   ],
   "source": [
    "livro_inst.titulo"
   ]
  },
  {
   "cell_type": "code",
   "execution_count": 6,
   "id": "ae47c16c",
   "metadata": {},
   "outputs": [
    {
     "name": "stdout",
     "output_type": "stream",
     "text": [
      "Foi criado o livro Harry Potter com ISBN 9991458\n"
     ]
    }
   ],
   "source": [
    "livro_inst.imprime()"
   ]
  },
  {
   "cell_type": "code",
   "execution_count": 7,
   "id": "466e6d33",
   "metadata": {},
   "outputs": [],
   "source": [
    "class Livro():\n",
    "    def __init__(self, titulo, isbn):\n",
    "        self.titulo = titulo\n",
    "        self.isbn = isbn\n",
    "        print(\"Construtor chamado para criar um objeto da classe\")\n",
    "\n",
    "    def imprime(self, titulo, isbn):\n",
    "        print(f\"O livro {titulo} possui ISBN {isbn}\")\n"
   ]
  },
  {
   "cell_type": "code",
   "execution_count": 8,
   "id": "c279688f",
   "metadata": {},
   "outputs": [
    {
     "name": "stdout",
     "output_type": "stream",
     "text": [
      "Construtor chamado para criar um objeto da classe\n"
     ]
    }
   ],
   "source": [
    "livro_inst2 = Livro(\"Percy Jackson\",8451257)"
   ]
  },
  {
   "cell_type": "code",
   "execution_count": 9,
   "id": "c2a43b68",
   "metadata": {},
   "outputs": [
    {
     "data": {
      "text/plain": [
       "'Percy Jackson'"
      ]
     },
     "execution_count": 9,
     "metadata": {},
     "output_type": "execute_result"
    }
   ],
   "source": [
    "livro_inst2.titulo"
   ]
  },
  {
   "cell_type": "code",
   "execution_count": 10,
   "id": "dabf3cdc",
   "metadata": {},
   "outputs": [
    {
     "name": "stdout",
     "output_type": "stream",
     "text": [
      "O livro Percy Jackson possui ISBN 8451257\n"
     ]
    }
   ],
   "source": [
    "livro_inst2.imprime(\"Percy Jackson\",8451257)"
   ]
  },
  {
   "cell_type": "code",
   "execution_count": 11,
   "id": "e290ed0e",
   "metadata": {},
   "outputs": [],
   "source": [
    "class Algoritimo():\n",
    "    def __init__(self,tipo_algo):\n",
    "        self.tipo = tipo_algo\n",
    "        print(\"Construtor chamado para criar um objeto da classe\")    "
   ]
  },
  {
   "cell_type": "code",
   "execution_count": 12,
   "id": "1cc7dbeb",
   "metadata": {},
   "outputs": [
    {
     "name": "stdout",
     "output_type": "stream",
     "text": [
      "Construtor chamado para criar um objeto da classe\n"
     ]
    }
   ],
   "source": [
    "algo1 = Algoritimo(tipo_algo = \"Classe Algoritimo\")"
   ]
  },
  {
   "cell_type": "code",
   "execution_count": 13,
   "id": "8e31dcb3",
   "metadata": {},
   "outputs": [
    {
     "name": "stdout",
     "output_type": "stream",
     "text": [
      "Construtor chamado para criar um objeto da classe\n"
     ]
    }
   ],
   "source": [
    "algo2 = Algoritimo(tipo_algo = \"Metodo construtor\")"
   ]
  },
  {
   "cell_type": "code",
   "execution_count": 14,
   "id": "e123344b",
   "metadata": {},
   "outputs": [
    {
     "data": {
      "text/plain": [
       "'Classe Algoritimo'"
      ]
     },
     "execution_count": 14,
     "metadata": {},
     "output_type": "execute_result"
    }
   ],
   "source": [
    "algo1.tipo"
   ]
  },
  {
   "cell_type": "code",
   "execution_count": 15,
   "id": "3827bbd6",
   "metadata": {},
   "outputs": [
    {
     "data": {
      "text/plain": [
       "'Metodo construtor'"
      ]
     },
     "execution_count": 15,
     "metadata": {},
     "output_type": "execute_result"
    }
   ],
   "source": [
    "algo2.tipo"
   ]
  }
 ],
 "metadata": {
  "kernelspec": {
   "display_name": "Python 3 (ipykernel)",
   "language": "python",
   "name": "python3"
  },
  "language_info": {
   "codemirror_mode": {
    "name": "ipython",
    "version": 3
   },
   "file_extension": ".py",
   "mimetype": "text/x-python",
   "name": "python",
   "nbconvert_exporter": "python",
   "pygments_lexer": "ipython3",
   "version": "3.10.9"
  }
 },
 "nbformat": 4,
 "nbformat_minor": 5
}
