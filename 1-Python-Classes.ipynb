{
 "cells": [
  {
   "cell_type": "markdown",
   "id": "280ce1f5",
   "metadata": {},
   "source": [
    "# Data Science Academy\n",
    "\n",
    "## Fundamentos de Linguagem Python Para Análise de Dados e Data Science\n",
    "\n",
    "## Introdução à Programação Orientada a Objetos"
   ]
  },
  {
   "cell_type": "code",
   "execution_count": null,
   "id": "d6038a4c",
   "metadata": {},
   "outputs": [],
   "source": []
  }
 ],
 "metadata": {
  "kernelspec": {
   "display_name": "Python 3 (ipykernel)",
   "language": "python",
   "name": "python3"
  },
  "language_info": {
   "codemirror_mode": {
    "name": "ipython",
    "version": 3
   },
   "file_extension": ".py",
   "mimetype": "text/x-python",
   "name": "python",
   "nbconvert_exporter": "python",
   "pygments_lexer": "ipython3",
   "version": "3.10.9"
  }
 },
 "nbformat": 4,
 "nbformat_minor": 5
}
